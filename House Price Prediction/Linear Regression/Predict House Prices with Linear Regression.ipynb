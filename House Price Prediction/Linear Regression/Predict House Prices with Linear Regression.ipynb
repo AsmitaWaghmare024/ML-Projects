{
 "cells": [
  {
   "cell_type": "markdown",
   "id": "2eb64c55",
   "metadata": {},
   "source": [
    "# Mini Project: Predict House Prices with Linear Regression"
   ]
  },
  {
   "cell_type": "markdown",
   "id": "031e5b34",
   "metadata": {},
   "source": [
    "Import Libraries"
   ]
  },
  {
   "cell_type": "code",
   "execution_count": 1,
   "id": "97fa2ceb",
   "metadata": {},
   "outputs": [],
   "source": [
    "import numpy as np\n",
    "import pandas as pd\n",
    "import matplotlib.pyplot as plt\n",
    "from sklearn.linear_model import LinearRegression"
   ]
  },
  {
   "cell_type": "markdown",
   "id": "a9a76768",
   "metadata": {},
   "source": [
    "Create Dataset"
   ]
  },
  {
   "cell_type": "code",
   "execution_count": 6,
   "id": "45271872",
   "metadata": {},
   "outputs": [
    {
     "name": "stdout",
     "output_type": "stream",
     "text": [
      "   Size_sqft  Price_Lakhs\n",
      "0       1000           50\n",
      "1       1500           70\n",
      "2       2000           90\n",
      "3       2500          110\n",
      "4       3000          130\n",
      "5       3500          150\n",
      "6       4000          170\n",
      "7       4500          190\n",
      "8       5000          200\n"
     ]
    }
   ],
   "source": [
    "# dataset (House Size vs Price)\n",
    "data = {\n",
    "    'Size_sqft': [1000, 1500, 2000, 2500, 3000, 3500, 4000, 4500, 5000],\n",
    "    'Price_Lakhs': [50, 70, 90, 110, 130, 150, 170, 190, 200] }\n",
    "\n",
    "df = pd.DataFrame(data)\n",
    "print(df)"
   ]
  },
  {
   "cell_type": "markdown",
   "id": "b4d8a4f1",
   "metadata": {},
   "source": [
    "Train Linear Regression Model"
   ]
  },
  {
   "cell_type": "code",
   "execution_count": 7,
   "id": "17756b5d",
   "metadata": {},
   "outputs": [
    {
     "name": "stdout",
     "output_type": "stream",
     "text": [
      "Weight (w): 0.038666666666666676\n",
      "Bias (b): 12.888888888888857\n"
     ]
    }
   ],
   "source": [
    "# Features (X) and Labels (y)\n",
    "X = df[['Size_sqft']]   # 2D array\n",
    "y = df['Price_Lakhs']   # 1D array\n",
    "\n",
    "# Create and train model\n",
    "model = LinearRegression()\n",
    "model.fit(X, y)\n",
    "\n",
    "print(\"Weight (w):\", model.coef_[0])\n",
    "print(\"Bias (b):\", model.intercept_)"
   ]
  },
  {
   "cell_type": "markdown",
   "id": "bbdd831c",
   "metadata": {},
   "source": [
    "Make Predictions"
   ]
  },
  {
   "cell_type": "code",
   "execution_count": 4,
   "id": "8e48c8e4",
   "metadata": {},
   "outputs": [
    {
     "name": "stdout",
     "output_type": "stream",
     "text": [
      "Predicted price for 1800 sq ft = 82.00 Lakhs\n",
      "Predicted price for 2700 sq ft = 118.00 Lakhs\n",
      "Predicted price for 4000 sq ft = 170.00 Lakhs\n"
     ]
    },
    {
     "name": "stderr",
     "output_type": "stream",
     "text": [
      "C:\\Users\\DELL\\AppData\\Local\\Programs\\Python\\Python310\\lib\\site-packages\\sklearn\\base.py:439: UserWarning: X does not have valid feature names, but LinearRegression was fitted with feature names\n",
      "  warnings.warn(\n"
     ]
    }
   ],
   "source": [
    "# Predict price of new houses\n",
    "new_sizes = np.array([[1800], [2700], [4000]])\n",
    "predictions = model.predict(new_sizes)\n",
    "\n",
    "for size, price in zip(new_sizes.flatten(), predictions):\n",
    "    print(f\"Predicted price for {size} sq ft = {price:.2f} Lakhs\")"
   ]
  },
  {
   "cell_type": "markdown",
   "id": "743f5a64",
   "metadata": {},
   "source": [
    "Visualize Results"
   ]
  },
  {
   "cell_type": "code",
   "execution_count": 8,
   "id": "9da415d4",
   "metadata": {},
   "outputs": [
    {
     "data": {
      "image/png": "[encoded data removed]",
      "text/plain": [
       "<Figure size 432x288 with 1 Axes>"
      ]
     },
     "metadata": {
      "needs_background": "light"
     },
     "output_type": "display_data"
    }
   ],
   "source": [
    "# Plot dataset\n",
    "plt.scatter(df['Size_sqft'], df['Price_Lakhs'], color='blue', label=\"Data\")\n",
    "\n",
    "# Plot regression line\n",
    "plt.plot(df['Size_sqft'], model.predict(X), color='red', label=\"Regression Line\")\n",
    "\n",
    "# Labels\n",
    "plt.xlabel(\"House Size (sq ft)\")\n",
    "plt.ylabel(\"Price (Lakhs)\")\n",
    "plt.legend()\n",
    "plt.show()"
   ]
  },
  {
   "cell_type": "code",
   "execution_count": null,
   "id": "17df1c02",
   "metadata": {},
   "outputs": [],
   "source": []
  }
 ],
 "metadata": {
  "kernelspec": {
   "display_name": "Python 3 (ipykernel)",
   "language": "python",
   "name": "python3"
  },
  "language_info": {
   "codemirror_mode": {
    "name": "ipython",
    "version": 3
   },
   "file_extension": ".py",
   "mimetype": "text/x-python",
   "name": "python",
   "nbconvert_exporter": "python",
   "pygments_lexer": "ipython3",
   "version": "3.10.2"
  }
 },
 "nbformat": 4,
 "nbformat_minor": 5
}
